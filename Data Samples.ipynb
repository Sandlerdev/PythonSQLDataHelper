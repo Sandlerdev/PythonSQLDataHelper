{
 "cells": [
  {
   "cell_type": "code",
   "execution_count": 1,
   "metadata": {},
   "outputs": [],
   "source": [
    "import Data as Data\n",
    "import plotly.io as pio\n",
    "pio.renderers.default='notebook'"
   ]
  },
  {
   "cell_type": "code",
   "execution_count": 2,
   "metadata": {},
   "outputs": [],
   "source": [
    "server = 'ftis-sql-6sdi6m3zgoyc4.database.windows.net'\n",
    "database = 'FTIS-db-6sdi6m3zgoyc4'\n",
    "username = 'FTISAdmin'\n",
    "password = 'Rockwell@12345'\n",
    "table_name = 'FTEG_Data'\n",
    "dm = Data.Data(server,database,username,password,table_name)\n",
    "tags = ['CookieLine.Mixer.CycleTime.Temperature','CookieLine.Mixer.CycleTime.Humidity','CookieLine.Mixer.MachineUDT.ActualWeight']\n"
   ]
  },
  {
   "cell_type": "code",
   "execution_count": 3,
   "metadata": {},
   "outputs": [
    {
     "name": "stdout",
     "output_type": "stream",
     "text": [
      "success\n"
     ]
    }
   ],
   "source": [
    "df = dm.GetWideHistory('06/21/2021 07:50:00','06/22/2021 10:00:00',1,tags)\n",
    "\n"
   ]
  },
  {
   "cell_type": "code",
   "execution_count": 4,
   "metadata": {},
   "outputs": [
    {
     "data": {
      "text/html": [
       "<div>\n",
       "<style scoped>\n",
       "    .dataframe tbody tr th:only-of-type {\n",
       "        vertical-align: middle;\n",
       "    }\n",
       "\n",
       "    .dataframe tbody tr th {\n",
       "        vertical-align: top;\n",
       "    }\n",
       "\n",
       "    .dataframe thead th {\n",
       "        text-align: right;\n",
       "    }\n",
       "</style>\n",
       "<table border=\"1\" class=\"dataframe\">\n",
       "  <thead>\n",
       "    <tr style=\"text-align: right;\">\n",
       "      <th>ModelID</th>\n",
       "      <th>CookieLine.Mixer.CycleTime.Humidity</th>\n",
       "      <th>CookieLine.Mixer.CycleTime.Temperature</th>\n",
       "      <th>CookieLine.Mixer.MachineUDT.ActualWeight</th>\n",
       "    </tr>\n",
       "  </thead>\n",
       "  <tbody>\n",
       "    <tr>\n",
       "      <th>count</th>\n",
       "      <td>981.000000</td>\n",
       "      <td>981.000000</td>\n",
       "      <td>981.000000</td>\n",
       "    </tr>\n",
       "    <tr>\n",
       "      <th>mean</th>\n",
       "      <td>66.491467</td>\n",
       "      <td>85.281993</td>\n",
       "      <td>7.451801</td>\n",
       "    </tr>\n",
       "    <tr>\n",
       "      <th>std</th>\n",
       "      <td>8.123004</td>\n",
       "      <td>8.248974</td>\n",
       "      <td>2.670140</td>\n",
       "    </tr>\n",
       "    <tr>\n",
       "      <th>min</th>\n",
       "      <td>57.585049</td>\n",
       "      <td>68.695114</td>\n",
       "      <td>4.517151</td>\n",
       "    </tr>\n",
       "    <tr>\n",
       "      <th>25%</th>\n",
       "      <td>59.281273</td>\n",
       "      <td>78.904289</td>\n",
       "      <td>5.550373</td>\n",
       "    </tr>\n",
       "    <tr>\n",
       "      <th>50%</th>\n",
       "      <td>64.094307</td>\n",
       "      <td>87.391701</td>\n",
       "      <td>7.031407</td>\n",
       "    </tr>\n",
       "    <tr>\n",
       "      <th>75%</th>\n",
       "      <td>72.511841</td>\n",
       "      <td>92.614311</td>\n",
       "      <td>11.046537</td>\n",
       "    </tr>\n",
       "    <tr>\n",
       "      <th>max</th>\n",
       "      <td>83.537560</td>\n",
       "      <td>94.944702</td>\n",
       "      <td>12.273960</td>\n",
       "    </tr>\n",
       "  </tbody>\n",
       "</table>\n",
       "</div>"
      ],
      "text/plain": [
       "ModelID  CookieLine.Mixer.CycleTime.Humidity  \\\n",
       "count                             981.000000   \n",
       "mean                               66.491467   \n",
       "std                                 8.123004   \n",
       "min                                57.585049   \n",
       "25%                                59.281273   \n",
       "50%                                64.094307   \n",
       "75%                                72.511841   \n",
       "max                                83.537560   \n",
       "\n",
       "ModelID  CookieLine.Mixer.CycleTime.Temperature  \\\n",
       "count                                981.000000   \n",
       "mean                                  85.281993   \n",
       "std                                    8.248974   \n",
       "min                                   68.695114   \n",
       "25%                                   78.904289   \n",
       "50%                                   87.391701   \n",
       "75%                                   92.614311   \n",
       "max                                   94.944702   \n",
       "\n",
       "ModelID  CookieLine.Mixer.MachineUDT.ActualWeight  \n",
       "count                                  981.000000  \n",
       "mean                                     7.451801  \n",
       "std                                      2.670140  \n",
       "min                                      4.517151  \n",
       "25%                                      5.550373  \n",
       "50%                                      7.031407  \n",
       "75%                                     11.046537  \n",
       "max                                     12.273960  "
      ]
     },
     "execution_count": 4,
     "metadata": {},
     "output_type": "execute_result"
    }
   ],
   "source": [
    "df.describe()"
   ]
  },
  {
   "cell_type": "code",
   "execution_count": 5,
   "metadata": {},
   "outputs": [
    {
     "data": {
      "text/html": [
       "<div>\n",
       "<style scoped>\n",
       "    .dataframe tbody tr th:only-of-type {\n",
       "        vertical-align: middle;\n",
       "    }\n",
       "\n",
       "    .dataframe tbody tr th {\n",
       "        vertical-align: top;\n",
       "    }\n",
       "\n",
       "    .dataframe thead th {\n",
       "        text-align: right;\n",
       "    }\n",
       "</style>\n",
       "<table border=\"1\" class=\"dataframe\">\n",
       "  <thead>\n",
       "    <tr style=\"text-align: right;\">\n",
       "      <th>ModelID</th>\n",
       "      <th>CookieLine.Mixer.CycleTime.Humidity</th>\n",
       "      <th>CookieLine.Mixer.CycleTime.Temperature</th>\n",
       "      <th>CookieLine.Mixer.MachineUDT.ActualWeight</th>\n",
       "    </tr>\n",
       "  </thead>\n",
       "  <tbody>\n",
       "    <tr>\n",
       "      <th>count</th>\n",
       "      <td>981.000000</td>\n",
       "      <td>981.000000</td>\n",
       "      <td>981.000000</td>\n",
       "    </tr>\n",
       "    <tr>\n",
       "      <th>mean</th>\n",
       "      <td>66.491467</td>\n",
       "      <td>85.281993</td>\n",
       "      <td>7.451801</td>\n",
       "    </tr>\n",
       "    <tr>\n",
       "      <th>std</th>\n",
       "      <td>8.123004</td>\n",
       "      <td>8.248974</td>\n",
       "      <td>2.670140</td>\n",
       "    </tr>\n",
       "    <tr>\n",
       "      <th>min</th>\n",
       "      <td>57.585049</td>\n",
       "      <td>68.695114</td>\n",
       "      <td>4.517151</td>\n",
       "    </tr>\n",
       "    <tr>\n",
       "      <th>25%</th>\n",
       "      <td>59.281273</td>\n",
       "      <td>78.904289</td>\n",
       "      <td>5.550373</td>\n",
       "    </tr>\n",
       "    <tr>\n",
       "      <th>50%</th>\n",
       "      <td>64.094307</td>\n",
       "      <td>87.391701</td>\n",
       "      <td>7.031407</td>\n",
       "    </tr>\n",
       "    <tr>\n",
       "      <th>75%</th>\n",
       "      <td>72.511841</td>\n",
       "      <td>92.614311</td>\n",
       "      <td>11.046537</td>\n",
       "    </tr>\n",
       "    <tr>\n",
       "      <th>max</th>\n",
       "      <td>83.537560</td>\n",
       "      <td>94.944702</td>\n",
       "      <td>12.273960</td>\n",
       "    </tr>\n",
       "  </tbody>\n",
       "</table>\n",
       "</div>"
      ],
      "text/plain": [
       "ModelID  CookieLine.Mixer.CycleTime.Humidity  \\\n",
       "count                             981.000000   \n",
       "mean                               66.491467   \n",
       "std                                 8.123004   \n",
       "min                                57.585049   \n",
       "25%                                59.281273   \n",
       "50%                                64.094307   \n",
       "75%                                72.511841   \n",
       "max                                83.537560   \n",
       "\n",
       "ModelID  CookieLine.Mixer.CycleTime.Temperature  \\\n",
       "count                                981.000000   \n",
       "mean                                  85.281993   \n",
       "std                                    8.248974   \n",
       "min                                   68.695114   \n",
       "25%                                   78.904289   \n",
       "50%                                   87.391701   \n",
       "75%                                   92.614311   \n",
       "max                                   94.944702   \n",
       "\n",
       "ModelID  CookieLine.Mixer.MachineUDT.ActualWeight  \n",
       "count                                  981.000000  \n",
       "mean                                     7.451801  \n",
       "std                                      2.670140  \n",
       "min                                      4.517151  \n",
       "25%                                      5.550373  \n",
       "50%                                      7.031407  \n",
       "75%                                     11.046537  \n",
       "max                                     12.273960  "
      ]
     },
     "execution_count": 5,
     "metadata": {},
     "output_type": "execute_result"
    }
   ],
   "source": [
    "dm.Wide_df.describe()"
   ]
  },
  {
   "cell_type": "code",
   "execution_count": null,
   "metadata": {},
   "outputs": [],
   "source": [
    "import plotly.graph_objects as go\n",
    "import numpy as np\n",
    "df = df\n",
    "fig = go.Figure()\n",
    "for col in dm.Wide_df.columns:\n",
    "    fig.add_trace(go.Scatter(x=df.index,y=df[col], mode='lines+markers', name =col))\n",
    "    \n",
    "fig.show()\n",
    "\n"
   ]
  },
  {
   "cell_type": "code",
   "execution_count": null,
   "metadata": {},
   "outputs": [],
   "source": [
    "dm.Narrow_df"
   ]
  },
  {
   "cell_type": "code",
   "execution_count": null,
   "metadata": {},
   "outputs": [],
   "source": [
    "#Using Narrow DataSet to create the same chart\n",
    "#Note Narrow_df is raw data and does not include the resolution / sampling in the Wide_df\n",
    "import plotly.express as px\n",
    "df = dm.Narrow_df\n",
    "fig = px.line(df, x='DateTime', y='V', color='ModelID')\n",
    "fig.show()"
   ]
  },
  {
   "cell_type": "code",
   "execution_count": null,
   "metadata": {},
   "outputs": [],
   "source": []
  }
 ],
 "metadata": {
  "kernelspec": {
   "display_name": "Python 3.8.3 64-bit ('env': venv)",
   "language": "python",
   "name": "python38364bitenvvenve2240d13dd674101a6e331496ac5f28c"
  },
  "language_info": {
   "codemirror_mode": {
    "name": "ipython",
    "version": 3
   },
   "file_extension": ".py",
   "mimetype": "text/x-python",
   "name": "python",
   "nbconvert_exporter": "python",
   "pygments_lexer": "ipython3",
   "version": "3.8.3"
  }
 },
 "nbformat": 4,
 "nbformat_minor": 4
}
