{
 "cells": [
  {
   "cell_type": "code",
   "execution_count": null,
   "metadata": {},
   "outputs": [],
   "source": [
    "import Data as Data\n",
    "import plotly.io as pio\n",
    "pio.renderers.default='notebook'"
   ]
  },
  {
   "cell_type": "code",
   "execution_count": null,
   "metadata": {},
   "outputs": [],
   "source": [
    "server = 'ftis-sql-6sdi6m3zgoyc4.database.windows.net'\n",
    "database = 'FTIS-db-6sdi6m3zgoyc4'\n",
    "username = \n",
    "password = \n",
    "table_name = 'FTEG_Data'\n",
    "dm = Data.Data(server,database,username,password,table_name)\n",
    "tags = ['CookieLine.Mixer.CycleTime.Temperature','CookieLine.Mixer.CycleTime.Humidity','CookieLine.Mixer.MachineUDT.ActualWeight']\n"
   ]
  },
  {
   "cell_type": "code",
   "execution_count": null,
   "metadata": {},
   "outputs": [],
   "source": [
    "df = dm.GetWideHistory('06/21/2021 07:50:00','06/22/2021 10:00:00',5,tags)\n",
    "\n"
   ]
  },
  {
   "cell_type": "code",
   "execution_count": null,
   "metadata": {},
   "outputs": [],
   "source": [
    "import plotly.graph_objects as go\n",
    "import numpy as np\n",
    "df = df\n",
    "fig = go.Figure()\n",
    "for col in dm.Wide_df.columns:\n",
    "    fig.add_trace(go.Scatter(x=df.index,y=df[col], mode='lines+markers', name =col))\n",
    "    \n",
    "fig.show()\n",
    "\n"
   ]
  },
  {
   "cell_type": "code",
   "execution_count": null,
   "metadata": {},
   "outputs": [],
   "source": [
    "dm.Narrow_df"
   ]
  },
  {
   "cell_type": "code",
   "execution_count": null,
   "metadata": {},
   "outputs": [],
   "source": [
    "#Using Narrow DataSet to create the same chart\n",
    "#Note Narrow_df is raw data and does not include the resolution / sampling in the Wide_df\n",
    "import plotly.express as px\n",
    "df = dm.Narrow_df\n",
    "fig = px.line(df, x='DateTime', y='V', color='ModelID')\n",
    "fig.show()"
   ]
  },
  {
   "cell_type": "code",
   "execution_count": null,
   "metadata": {},
   "outputs": [],
   "source": []
  }
 ],
 "metadata": {
  "kernelspec": {
   "display_name": "Python 3.8.3 64-bit ('env': venv)",
   "language": "python",
   "name": "python38364bitenvvenve2240d13dd674101a6e331496ac5f28c"
  },
  "language_info": {
   "codemirror_mode": {
    "name": "ipython",
    "version": 3
   },
   "file_extension": ".py",
   "mimetype": "text/x-python",
   "name": "python",
   "nbconvert_exporter": "python",
   "pygments_lexer": "ipython3",
   "version": "3.8.3"
  }
 },
 "nbformat": 4,
 "nbformat_minor": 4
}
